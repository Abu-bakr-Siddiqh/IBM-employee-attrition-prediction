{
  "nbformat": 4,
  "nbformat_minor": 0,
  "metadata": {
    "colab": {
      "provenance": [],
      "authorship_tag": "ABX9TyOf/1Jv/WJLiYnISesH99Rt"
    },
    "kernelspec": {
      "name": "python3",
      "display_name": "Python 3"
    },
    "language_info": {
      "name": "python"
    }
  },
  "cells": [
    {
      "cell_type": "markdown",
      "source": [
        "# IMPORTING ALL THE REQUIRED LBRARIES"
      ],
      "metadata": {
        "id": "TO3lZdBLGH1z"
      }
    },
    {
      "cell_type": "code",
      "execution_count": 103,
      "metadata": {
        "id": "Mq0QGuU9FTna"
      },
      "outputs": [],
      "source": [
        "import pandas as pd\n",
        "import numpy as np\n",
        "import matplotlib.pyplot as plt\n",
        "import seaborn as sns"
      ]
    },
    {
      "cell_type": "markdown",
      "source": [
        "# READING THE DATASET"
      ],
      "metadata": {
        "id": "YGddDau-G3P_"
      }
    },
    {
      "cell_type": "code",
      "source": [
        "df = pd.read_csv('Employee_attrition.csv')\n",
        "df.head()"
      ],
      "metadata": {
        "colab": {
          "base_uri": "https://localhost:8080/",
          "height": 369
        },
        "id": "R6CQsao8G2Sl",
        "outputId": "b10ceb90-c870-49a4-889a-d8e3ea557d6b"
      },
      "execution_count": 104,
      "outputs": [
        {
          "output_type": "execute_result",
          "data": {
            "text/plain": [
              "   Age Attrition     BusinessTravel  DailyRate              Department  \\\n",
              "0   41       Yes      Travel_Rarely       1102                   Sales   \n",
              "1   49        No  Travel_Frequently        279  Research & Development   \n",
              "2   37       Yes      Travel_Rarely       1373  Research & Development   \n",
              "3   33        No  Travel_Frequently       1392  Research & Development   \n",
              "4   27        No      Travel_Rarely        591  Research & Development   \n",
              "\n",
              "   DistanceFromHome  Education EducationField  EmployeeCount  EmployeeNumber  \\\n",
              "0                 1          2  Life Sciences              1               1   \n",
              "1                 8          1  Life Sciences              1               2   \n",
              "2                 2          2          Other              1               4   \n",
              "3                 3          4  Life Sciences              1               5   \n",
              "4                 2          1        Medical              1               7   \n",
              "\n",
              "   ...  RelationshipSatisfaction StandardHours  StockOptionLevel  \\\n",
              "0  ...                         1            80                 0   \n",
              "1  ...                         4            80                 1   \n",
              "2  ...                         2            80                 0   \n",
              "3  ...                         3            80                 0   \n",
              "4  ...                         4            80                 1   \n",
              "\n",
              "   TotalWorkingYears  TrainingTimesLastYear WorkLifeBalance  YearsAtCompany  \\\n",
              "0                  8                      0               1               6   \n",
              "1                 10                      3               3              10   \n",
              "2                  7                      3               3               0   \n",
              "3                  8                      3               3               8   \n",
              "4                  6                      3               3               2   \n",
              "\n",
              "  YearsInCurrentRole  YearsSinceLastPromotion  YearsWithCurrManager  \n",
              "0                  4                        0                     5  \n",
              "1                  7                        1                     7  \n",
              "2                  0                        0                     0  \n",
              "3                  7                        3                     0  \n",
              "4                  2                        2                     2  \n",
              "\n",
              "[5 rows x 35 columns]"
            ],
            "text/html": [
              "\n",
              "  <div id=\"df-296d0fdf-d72d-4599-a09b-f1b0a1e9a4d9\">\n",
              "    <div class=\"colab-df-container\">\n",
              "      <div>\n",
              "<style scoped>\n",
              "    .dataframe tbody tr th:only-of-type {\n",
              "        vertical-align: middle;\n",
              "    }\n",
              "\n",
              "    .dataframe tbody tr th {\n",
              "        vertical-align: top;\n",
              "    }\n",
              "\n",
              "    .dataframe thead th {\n",
              "        text-align: right;\n",
              "    }\n",
              "</style>\n",
              "<table border=\"1\" class=\"dataframe\">\n",
              "  <thead>\n",
              "    <tr style=\"text-align: right;\">\n",
              "      <th></th>\n",
              "      <th>Age</th>\n",
              "      <th>Attrition</th>\n",
              "      <th>BusinessTravel</th>\n",
              "      <th>DailyRate</th>\n",
              "      <th>Department</th>\n",
              "      <th>DistanceFromHome</th>\n",
              "      <th>Education</th>\n",
              "      <th>EducationField</th>\n",
              "      <th>EmployeeCount</th>\n",
              "      <th>EmployeeNumber</th>\n",
              "      <th>...</th>\n",
              "      <th>RelationshipSatisfaction</th>\n",
              "      <th>StandardHours</th>\n",
              "      <th>StockOptionLevel</th>\n",
              "      <th>TotalWorkingYears</th>\n",
              "      <th>TrainingTimesLastYear</th>\n",
              "      <th>WorkLifeBalance</th>\n",
              "      <th>YearsAtCompany</th>\n",
              "      <th>YearsInCurrentRole</th>\n",
              "      <th>YearsSinceLastPromotion</th>\n",
              "      <th>YearsWithCurrManager</th>\n",
              "    </tr>\n",
              "  </thead>\n",
              "  <tbody>\n",
              "    <tr>\n",
              "      <th>0</th>\n",
              "      <td>41</td>\n",
              "      <td>Yes</td>\n",
              "      <td>Travel_Rarely</td>\n",
              "      <td>1102</td>\n",
              "      <td>Sales</td>\n",
              "      <td>1</td>\n",
              "      <td>2</td>\n",
              "      <td>Life Sciences</td>\n",
              "      <td>1</td>\n",
              "      <td>1</td>\n",
              "      <td>...</td>\n",
              "      <td>1</td>\n",
              "      <td>80</td>\n",
              "      <td>0</td>\n",
              "      <td>8</td>\n",
              "      <td>0</td>\n",
              "      <td>1</td>\n",
              "      <td>6</td>\n",
              "      <td>4</td>\n",
              "      <td>0</td>\n",
              "      <td>5</td>\n",
              "    </tr>\n",
              "    <tr>\n",
              "      <th>1</th>\n",
              "      <td>49</td>\n",
              "      <td>No</td>\n",
              "      <td>Travel_Frequently</td>\n",
              "      <td>279</td>\n",
              "      <td>Research &amp; Development</td>\n",
              "      <td>8</td>\n",
              "      <td>1</td>\n",
              "      <td>Life Sciences</td>\n",
              "      <td>1</td>\n",
              "      <td>2</td>\n",
              "      <td>...</td>\n",
              "      <td>4</td>\n",
              "      <td>80</td>\n",
              "      <td>1</td>\n",
              "      <td>10</td>\n",
              "      <td>3</td>\n",
              "      <td>3</td>\n",
              "      <td>10</td>\n",
              "      <td>7</td>\n",
              "      <td>1</td>\n",
              "      <td>7</td>\n",
              "    </tr>\n",
              "    <tr>\n",
              "      <th>2</th>\n",
              "      <td>37</td>\n",
              "      <td>Yes</td>\n",
              "      <td>Travel_Rarely</td>\n",
              "      <td>1373</td>\n",
              "      <td>Research &amp; Development</td>\n",
              "      <td>2</td>\n",
              "      <td>2</td>\n",
              "      <td>Other</td>\n",
              "      <td>1</td>\n",
              "      <td>4</td>\n",
              "      <td>...</td>\n",
              "      <td>2</td>\n",
              "      <td>80</td>\n",
              "      <td>0</td>\n",
              "      <td>7</td>\n",
              "      <td>3</td>\n",
              "      <td>3</td>\n",
              "      <td>0</td>\n",
              "      <td>0</td>\n",
              "      <td>0</td>\n",
              "      <td>0</td>\n",
              "    </tr>\n",
              "    <tr>\n",
              "      <th>3</th>\n",
              "      <td>33</td>\n",
              "      <td>No</td>\n",
              "      <td>Travel_Frequently</td>\n",
              "      <td>1392</td>\n",
              "      <td>Research &amp; Development</td>\n",
              "      <td>3</td>\n",
              "      <td>4</td>\n",
              "      <td>Life Sciences</td>\n",
              "      <td>1</td>\n",
              "      <td>5</td>\n",
              "      <td>...</td>\n",
              "      <td>3</td>\n",
              "      <td>80</td>\n",
              "      <td>0</td>\n",
              "      <td>8</td>\n",
              "      <td>3</td>\n",
              "      <td>3</td>\n",
              "      <td>8</td>\n",
              "      <td>7</td>\n",
              "      <td>3</td>\n",
              "      <td>0</td>\n",
              "    </tr>\n",
              "    <tr>\n",
              "      <th>4</th>\n",
              "      <td>27</td>\n",
              "      <td>No</td>\n",
              "      <td>Travel_Rarely</td>\n",
              "      <td>591</td>\n",
              "      <td>Research &amp; Development</td>\n",
              "      <td>2</td>\n",
              "      <td>1</td>\n",
              "      <td>Medical</td>\n",
              "      <td>1</td>\n",
              "      <td>7</td>\n",
              "      <td>...</td>\n",
              "      <td>4</td>\n",
              "      <td>80</td>\n",
              "      <td>1</td>\n",
              "      <td>6</td>\n",
              "      <td>3</td>\n",
              "      <td>3</td>\n",
              "      <td>2</td>\n",
              "      <td>2</td>\n",
              "      <td>2</td>\n",
              "      <td>2</td>\n",
              "    </tr>\n",
              "  </tbody>\n",
              "</table>\n",
              "<p>5 rows × 35 columns</p>\n",
              "</div>\n",
              "      <button class=\"colab-df-convert\" onclick=\"convertToInteractive('df-296d0fdf-d72d-4599-a09b-f1b0a1e9a4d9')\"\n",
              "              title=\"Convert this dataframe to an interactive table.\"\n",
              "              style=\"display:none;\">\n",
              "        \n",
              "  <svg xmlns=\"http://www.w3.org/2000/svg\" height=\"24px\"viewBox=\"0 0 24 24\"\n",
              "       width=\"24px\">\n",
              "    <path d=\"M0 0h24v24H0V0z\" fill=\"none\"/>\n",
              "    <path d=\"M18.56 5.44l.94 2.06.94-2.06 2.06-.94-2.06-.94-.94-2.06-.94 2.06-2.06.94zm-11 1L8.5 8.5l.94-2.06 2.06-.94-2.06-.94L8.5 2.5l-.94 2.06-2.06.94zm10 10l.94 2.06.94-2.06 2.06-.94-2.06-.94-.94-2.06-.94 2.06-2.06.94z\"/><path d=\"M17.41 7.96l-1.37-1.37c-.4-.4-.92-.59-1.43-.59-.52 0-1.04.2-1.43.59L10.3 9.45l-7.72 7.72c-.78.78-.78 2.05 0 2.83L4 21.41c.39.39.9.59 1.41.59.51 0 1.02-.2 1.41-.59l7.78-7.78 2.81-2.81c.8-.78.8-2.07 0-2.86zM5.41 20L4 18.59l7.72-7.72 1.47 1.35L5.41 20z\"/>\n",
              "  </svg>\n",
              "      </button>\n",
              "      \n",
              "  <style>\n",
              "    .colab-df-container {\n",
              "      display:flex;\n",
              "      flex-wrap:wrap;\n",
              "      gap: 12px;\n",
              "    }\n",
              "\n",
              "    .colab-df-convert {\n",
              "      background-color: #E8F0FE;\n",
              "      border: none;\n",
              "      border-radius: 50%;\n",
              "      cursor: pointer;\n",
              "      display: none;\n",
              "      fill: #1967D2;\n",
              "      height: 32px;\n",
              "      padding: 0 0 0 0;\n",
              "      width: 32px;\n",
              "    }\n",
              "\n",
              "    .colab-df-convert:hover {\n",
              "      background-color: #E2EBFA;\n",
              "      box-shadow: 0px 1px 2px rgba(60, 64, 67, 0.3), 0px 1px 3px 1px rgba(60, 64, 67, 0.15);\n",
              "      fill: #174EA6;\n",
              "    }\n",
              "\n",
              "    [theme=dark] .colab-df-convert {\n",
              "      background-color: #3B4455;\n",
              "      fill: #D2E3FC;\n",
              "    }\n",
              "\n",
              "    [theme=dark] .colab-df-convert:hover {\n",
              "      background-color: #434B5C;\n",
              "      box-shadow: 0px 1px 3px 1px rgba(0, 0, 0, 0.15);\n",
              "      filter: drop-shadow(0px 1px 2px rgba(0, 0, 0, 0.3));\n",
              "      fill: #FFFFFF;\n",
              "    }\n",
              "  </style>\n",
              "\n",
              "      <script>\n",
              "        const buttonEl =\n",
              "          document.querySelector('#df-296d0fdf-d72d-4599-a09b-f1b0a1e9a4d9 button.colab-df-convert');\n",
              "        buttonEl.style.display =\n",
              "          google.colab.kernel.accessAllowed ? 'block' : 'none';\n",
              "\n",
              "        async function convertToInteractive(key) {\n",
              "          const element = document.querySelector('#df-296d0fdf-d72d-4599-a09b-f1b0a1e9a4d9');\n",
              "          const dataTable =\n",
              "            await google.colab.kernel.invokeFunction('convertToInteractive',\n",
              "                                                     [key], {});\n",
              "          if (!dataTable) return;\n",
              "\n",
              "          const docLinkHtml = 'Like what you see? Visit the ' +\n",
              "            '<a target=\"_blank\" href=https://colab.research.google.com/notebooks/data_table.ipynb>data table notebook</a>'\n",
              "            + ' to learn more about interactive tables.';\n",
              "          element.innerHTML = '';\n",
              "          dataTable['output_type'] = 'display_data';\n",
              "          await google.colab.output.renderOutput(dataTable, element);\n",
              "          const docLink = document.createElement('div');\n",
              "          docLink.innerHTML = docLinkHtml;\n",
              "          element.appendChild(docLink);\n",
              "        }\n",
              "      </script>\n",
              "    </div>\n",
              "  </div>\n",
              "  "
            ]
          },
          "metadata": {},
          "execution_count": 104
        }
      ]
    },
    {
      "cell_type": "markdown",
      "source": [
        "# CHECKING THE SHAPE OF DATASET"
      ],
      "metadata": {
        "id": "z4BBjwNJJjEV"
      }
    },
    {
      "cell_type": "code",
      "source": [
        "df.shape"
      ],
      "metadata": {
        "colab": {
          "base_uri": "https://localhost:8080/"
        },
        "id": "StPPdihPHGOU",
        "outputId": "410ffc5a-1a31-403f-800c-353994f926cb"
      },
      "execution_count": 105,
      "outputs": [
        {
          "output_type": "execute_result",
          "data": {
            "text/plain": [
              "(1470, 35)"
            ]
          },
          "metadata": {},
          "execution_count": 105
        }
      ]
    },
    {
      "cell_type": "markdown",
      "source": [
        "# CHECKING DATATYPES OF EACH COLUMN"
      ],
      "metadata": {
        "id": "ZWm7TaCiJqdc"
      }
    },
    {
      "cell_type": "code",
      "source": [
        "df.info()"
      ],
      "metadata": {
        "colab": {
          "base_uri": "https://localhost:8080/"
        },
        "id": "fDAJ-1OnJoTc",
        "outputId": "62f1fd56-1c5d-4982-f23a-d92db3ac348e"
      },
      "execution_count": 106,
      "outputs": [
        {
          "output_type": "stream",
          "name": "stdout",
          "text": [
            "<class 'pandas.core.frame.DataFrame'>\n",
            "RangeIndex: 1470 entries, 0 to 1469\n",
            "Data columns (total 35 columns):\n",
            " #   Column                    Non-Null Count  Dtype \n",
            "---  ------                    --------------  ----- \n",
            " 0   Age                       1470 non-null   int64 \n",
            " 1   Attrition                 1470 non-null   object\n",
            " 2   BusinessTravel            1470 non-null   object\n",
            " 3   DailyRate                 1470 non-null   int64 \n",
            " 4   Department                1470 non-null   object\n",
            " 5   DistanceFromHome          1470 non-null   int64 \n",
            " 6   Education                 1470 non-null   int64 \n",
            " 7   EducationField            1470 non-null   object\n",
            " 8   EmployeeCount             1470 non-null   int64 \n",
            " 9   EmployeeNumber            1470 non-null   int64 \n",
            " 10  EnvironmentSatisfaction   1470 non-null   int64 \n",
            " 11  Gender                    1470 non-null   object\n",
            " 12  HourlyRate                1470 non-null   int64 \n",
            " 13  JobInvolvement            1470 non-null   int64 \n",
            " 14  JobLevel                  1470 non-null   int64 \n",
            " 15  JobRole                   1470 non-null   object\n",
            " 16  JobSatisfaction           1470 non-null   int64 \n",
            " 17  MaritalStatus             1470 non-null   object\n",
            " 18  MonthlyIncome             1470 non-null   int64 \n",
            " 19  MonthlyRate               1470 non-null   int64 \n",
            " 20  NumCompaniesWorked        1470 non-null   int64 \n",
            " 21  Over18                    1470 non-null   object\n",
            " 22  OverTime                  1470 non-null   object\n",
            " 23  PercentSalaryHike         1470 non-null   int64 \n",
            " 24  PerformanceRating         1470 non-null   int64 \n",
            " 25  RelationshipSatisfaction  1470 non-null   int64 \n",
            " 26  StandardHours             1470 non-null   int64 \n",
            " 27  StockOptionLevel          1470 non-null   int64 \n",
            " 28  TotalWorkingYears         1470 non-null   int64 \n",
            " 29  TrainingTimesLastYear     1470 non-null   int64 \n",
            " 30  WorkLifeBalance           1470 non-null   int64 \n",
            " 31  YearsAtCompany            1470 non-null   int64 \n",
            " 32  YearsInCurrentRole        1470 non-null   int64 \n",
            " 33  YearsSinceLastPromotion   1470 non-null   int64 \n",
            " 34  YearsWithCurrManager      1470 non-null   int64 \n",
            "dtypes: int64(26), object(9)\n",
            "memory usage: 402.1+ KB\n"
          ]
        }
      ]
    },
    {
      "cell_type": "markdown",
      "source": [
        "# CONVERTING CATEGORICAL VALUES INTO NUMERICAL VALUES"
      ],
      "metadata": {
        "id": "8r_e9jZlJyOw"
      }
    },
    {
      "cell_type": "code",
      "source": [
        "#Attrition column\n",
        "df['Attrition'] = df['Attrition'].replace({'Yes':1,'No':0})\n",
        "\n",
        "#BusinessTravel column\n",
        "df['BusinessTravel'] = df['BusinessTravel'].replace({'Travel_Rarely':0,'Travel_Frequently':1,'Non-Travel':2})\n",
        "\n",
        "#Department column\n",
        "df['Department'] = df['Department'].replace({'Sales':0,'Research & Development':1,'Human Resources':2})\n",
        "\n",
        "#EducationField column\n",
        "df['EducationField'] = df['EducationField'].replace({'Life Sciences':0,'Medical':1,'Marketing':2,'Technical Degree':3,\n",
        "                                                     'Human Resources':4,'Other':5})\n",
        "\n",
        "#GEnder column\n",
        "df['Gender'] = df['Gender'].replace({'Female':1,'Male':0})\n",
        "\n",
        "#JobRole column\n",
        "df['JobRole'] = df['JobRole'].replace({'Sales Executive':0,'Research Scientist':1,'Laboratory Technician':2,'Manufacturing Director':3,\n",
        "                                       'Healthcare Representative':4,'Manager':5,'Sales Representative':6,'Research Director':7,\n",
        "                                       'Human Resources':8})\n",
        "\n",
        "#Maritalstatus column\n",
        "df['MaritalStatus'] = df['MaritalStatus'].replace({'Single':0,'Married':1,'Divorced':2})\n",
        "\n",
        "#overtime column\n",
        "df['OverTime'] = df['OverTime'].replace({'Yes':1,'No':0})"
      ],
      "metadata": {
        "id": "Ijj4sfPiJwa0"
      },
      "execution_count": 107,
      "outputs": []
    },
    {
      "cell_type": "code",
      "source": [
        "df.info()"
      ],
      "metadata": {
        "colab": {
          "base_uri": "https://localhost:8080/"
        },
        "id": "bzFZO3NWK4hM",
        "outputId": "6d4bcf0c-89c8-4b06-c237-7dd2183f2ea1"
      },
      "execution_count": 108,
      "outputs": [
        {
          "output_type": "stream",
          "name": "stdout",
          "text": [
            "<class 'pandas.core.frame.DataFrame'>\n",
            "RangeIndex: 1470 entries, 0 to 1469\n",
            "Data columns (total 35 columns):\n",
            " #   Column                    Non-Null Count  Dtype \n",
            "---  ------                    --------------  ----- \n",
            " 0   Age                       1470 non-null   int64 \n",
            " 1   Attrition                 1470 non-null   int64 \n",
            " 2   BusinessTravel            1470 non-null   int64 \n",
            " 3   DailyRate                 1470 non-null   int64 \n",
            " 4   Department                1470 non-null   int64 \n",
            " 5   DistanceFromHome          1470 non-null   int64 \n",
            " 6   Education                 1470 non-null   int64 \n",
            " 7   EducationField            1470 non-null   int64 \n",
            " 8   EmployeeCount             1470 non-null   int64 \n",
            " 9   EmployeeNumber            1470 non-null   int64 \n",
            " 10  EnvironmentSatisfaction   1470 non-null   int64 \n",
            " 11  Gender                    1470 non-null   int64 \n",
            " 12  HourlyRate                1470 non-null   int64 \n",
            " 13  JobInvolvement            1470 non-null   int64 \n",
            " 14  JobLevel                  1470 non-null   int64 \n",
            " 15  JobRole                   1470 non-null   int64 \n",
            " 16  JobSatisfaction           1470 non-null   int64 \n",
            " 17  MaritalStatus             1470 non-null   int64 \n",
            " 18  MonthlyIncome             1470 non-null   int64 \n",
            " 19  MonthlyRate               1470 non-null   int64 \n",
            " 20  NumCompaniesWorked        1470 non-null   int64 \n",
            " 21  Over18                    1470 non-null   object\n",
            " 22  OverTime                  1470 non-null   int64 \n",
            " 23  PercentSalaryHike         1470 non-null   int64 \n",
            " 24  PerformanceRating         1470 non-null   int64 \n",
            " 25  RelationshipSatisfaction  1470 non-null   int64 \n",
            " 26  StandardHours             1470 non-null   int64 \n",
            " 27  StockOptionLevel          1470 non-null   int64 \n",
            " 28  TotalWorkingYears         1470 non-null   int64 \n",
            " 29  TrainingTimesLastYear     1470 non-null   int64 \n",
            " 30  WorkLifeBalance           1470 non-null   int64 \n",
            " 31  YearsAtCompany            1470 non-null   int64 \n",
            " 32  YearsInCurrentRole        1470 non-null   int64 \n",
            " 33  YearsSinceLastPromotion   1470 non-null   int64 \n",
            " 34  YearsWithCurrManager      1470 non-null   int64 \n",
            "dtypes: int64(34), object(1)\n",
            "memory usage: 402.1+ KB\n"
          ]
        }
      ]
    },
    {
      "cell_type": "code",
      "source": [
        "df = df.drop(['Over18'],axis=1)"
      ],
      "metadata": {
        "id": "_DL9lPZGLSMK"
      },
      "execution_count": 109,
      "outputs": []
    },
    {
      "cell_type": "markdown",
      "source": [
        "# CHECKING CORRELATION BETWEEN DEPENDENT AND INDEPENDENT VARIABKES"
      ],
      "metadata": {
        "id": "cee7_mZBLamv"
      }
    },
    {
      "cell_type": "code",
      "source": [
        "for i in df.columns:\n",
        "  print(i,'----------->',df['Attrition'].corr(df[i]))\n",
        "  print('')"
      ],
      "metadata": {
        "colab": {
          "base_uri": "https://localhost:8080/"
        },
        "id": "LkXQAAI8LAAP",
        "outputId": "ac39b0ad-4f70-4c1b-e947-0c3c11fd4bca"
      },
      "execution_count": 110,
      "outputs": [
        {
          "output_type": "stream",
          "name": "stdout",
          "text": [
            "Age -----------> -0.15920500686577926\n",
            "\n",
            "Attrition -----------> 1.0\n",
            "\n",
            "BusinessTravel -----------> -7.377694602225551e-05\n",
            "\n",
            "DailyRate -----------> -0.05665199186762916\n",
            "\n",
            "Department -----------> -0.06399059633809008\n",
            "\n",
            "DistanceFromHome -----------> 0.07792358295570351\n",
            "\n",
            "Education -----------> -0.031372819640049295\n",
            "\n",
            "EducationField -----------> 0.05156704570591742\n",
            "\n",
            "EmployeeCount -----------> nan\n",
            "\n",
            "EmployeeNumber -----------> -0.01057724275924313\n",
            "\n",
            "EnvironmentSatisfaction -----------> -0.10336897833793617\n",
            "\n",
            "Gender -----------> -0.029453253175141646\n",
            "\n",
            "HourlyRate -----------> -0.006845549572139851\n",
            "\n",
            "JobInvolvement -----------> -0.13001595678605318\n",
            "\n",
            "JobLevel -----------> -0.16910475093102645\n",
            "\n",
            "JobRole -----------> -0.027930476081942206\n",
            "\n",
            "JobSatisfaction -----------> -0.10348112606902116\n",
            "\n",
            "MaritalStatus -----------> -0.16207023465701428\n",
            "\n",
            "MonthlyIncome -----------> -0.15983958238498835\n",
            "\n",
            "MonthlyRate -----------> 0.015170212530471426\n",
            "\n",
            "NumCompaniesWorked -----------> 0.043493739057813625\n",
            "\n",
            "OverTime -----------> 0.24611799424580322\n",
            "\n",
            "PercentSalaryHike -----------> -0.013478202057439175\n",
            "\n",
            "PerformanceRating -----------> 0.002888751711080844\n",
            "\n",
            "RelationshipSatisfaction -----------> -0.045872278881126244\n",
            "\n",
            "StandardHours -----------> nan\n",
            "\n",
            "StockOptionLevel -----------> -0.1371449189333258\n",
            "\n",
            "TotalWorkingYears -----------> -0.17106324613622623\n",
            "\n",
            "TrainingTimesLastYear -----------> -0.05947779855642024\n",
            "\n",
            "WorkLifeBalance -----------> -0.06393904721740869\n",
            "\n",
            "YearsAtCompany -----------> -0.13439221398997678\n",
            "\n",
            "YearsInCurrentRole -----------> -0.1605450042677009\n",
            "\n",
            "YearsSinceLastPromotion -----------> -0.03301877514258431\n",
            "\n",
            "YearsWithCurrManager -----------> -0.15619931590162844\n",
            "\n"
          ]
        }
      ]
    },
    {
      "cell_type": "markdown",
      "source": [
        "# DROPING UNWANTED COLUMNS"
      ],
      "metadata": {
        "id": "WYKPXCtFL-jC"
      }
    },
    {
      "cell_type": "code",
      "source": [
        "df = df.drop(['Education','EducationField','EmployeeCount','DailyRate','HourlyRate','OverTime','StandardHours','TrainingTimesLastYear',\n",
        "              'StockOptionLevel','BusinessTravel','JobLevel','MonthlyRate','NumCompaniesWorked'],axis=1)"
      ],
      "metadata": {
        "id": "fe8UodiZLnxD"
      },
      "execution_count": 111,
      "outputs": []
    },
    {
      "cell_type": "code",
      "source": [
        "len(df.columns)"
      ],
      "metadata": {
        "colab": {
          "base_uri": "https://localhost:8080/"
        },
        "id": "OcJJo4YOPN81",
        "outputId": "924346f2-999f-474a-a5b0-513e715115af"
      },
      "execution_count": 112,
      "outputs": [
        {
          "output_type": "execute_result",
          "data": {
            "text/plain": [
              "21"
            ]
          },
          "metadata": {},
          "execution_count": 112
        }
      ]
    },
    {
      "cell_type": "code",
      "source": [
        "df.columns"
      ],
      "metadata": {
        "colab": {
          "base_uri": "https://localhost:8080/"
        },
        "id": "7p1Td9z4PsbO",
        "outputId": "7975b164-7760-403d-884c-00fc96d1e070"
      },
      "execution_count": 113,
      "outputs": [
        {
          "output_type": "execute_result",
          "data": {
            "text/plain": [
              "Index(['Age', 'Attrition', 'Department', 'DistanceFromHome', 'EmployeeNumber',\n",
              "       'EnvironmentSatisfaction', 'Gender', 'JobInvolvement', 'JobRole',\n",
              "       'JobSatisfaction', 'MaritalStatus', 'MonthlyIncome',\n",
              "       'PercentSalaryHike', 'PerformanceRating', 'RelationshipSatisfaction',\n",
              "       'TotalWorkingYears', 'WorkLifeBalance', 'YearsAtCompany',\n",
              "       'YearsInCurrentRole', 'YearsSinceLastPromotion',\n",
              "       'YearsWithCurrManager'],\n",
              "      dtype='object')"
            ]
          },
          "metadata": {},
          "execution_count": 113
        }
      ]
    },
    {
      "cell_type": "markdown",
      "source": [
        "# DESCRIBTION OF EACH COLUMN"
      ],
      "metadata": {
        "id": "vcU_9hmvkz44"
      }
    },
    {
      "cell_type": "code",
      "source": [
        "for col in df.columns:\n",
        "  print(col)\n",
        "  print(\"---------------------------------\")\n",
        "  print(df[col].describe())\n",
        "  print()"
      ],
      "metadata": {
        "colab": {
          "base_uri": "https://localhost:8080/"
        },
        "id": "8cwF8HYHkzVb",
        "outputId": "846d78ab-1299-4d77-8a71-60cc7a3759ea"
      },
      "execution_count": 114,
      "outputs": [
        {
          "output_type": "stream",
          "name": "stdout",
          "text": [
            "Age\n",
            "---------------------------------\n",
            "count    1470.000000\n",
            "mean       36.923810\n",
            "std         9.135373\n",
            "min        18.000000\n",
            "25%        30.000000\n",
            "50%        36.000000\n",
            "75%        43.000000\n",
            "max        60.000000\n",
            "Name: Age, dtype: float64\n",
            "\n",
            "Attrition\n",
            "---------------------------------\n",
            "count    1470.000000\n",
            "mean        0.161224\n",
            "std         0.367863\n",
            "min         0.000000\n",
            "25%         0.000000\n",
            "50%         0.000000\n",
            "75%         0.000000\n",
            "max         1.000000\n",
            "Name: Attrition, dtype: float64\n",
            "\n",
            "Department\n",
            "---------------------------------\n",
            "count    1470.000000\n",
            "mean        0.739456\n",
            "std         0.527792\n",
            "min         0.000000\n",
            "25%         0.000000\n",
            "50%         1.000000\n",
            "75%         1.000000\n",
            "max         2.000000\n",
            "Name: Department, dtype: float64\n",
            "\n",
            "DistanceFromHome\n",
            "---------------------------------\n",
            "count    1470.000000\n",
            "mean        9.192517\n",
            "std         8.106864\n",
            "min         1.000000\n",
            "25%         2.000000\n",
            "50%         7.000000\n",
            "75%        14.000000\n",
            "max        29.000000\n",
            "Name: DistanceFromHome, dtype: float64\n",
            "\n",
            "EmployeeNumber\n",
            "---------------------------------\n",
            "count    1470.000000\n",
            "mean     1024.865306\n",
            "std       602.024335\n",
            "min         1.000000\n",
            "25%       491.250000\n",
            "50%      1020.500000\n",
            "75%      1555.750000\n",
            "max      2068.000000\n",
            "Name: EmployeeNumber, dtype: float64\n",
            "\n",
            "EnvironmentSatisfaction\n",
            "---------------------------------\n",
            "count    1470.000000\n",
            "mean        2.721769\n",
            "std         1.093082\n",
            "min         1.000000\n",
            "25%         2.000000\n",
            "50%         3.000000\n",
            "75%         4.000000\n",
            "max         4.000000\n",
            "Name: EnvironmentSatisfaction, dtype: float64\n",
            "\n",
            "Gender\n",
            "---------------------------------\n",
            "count    1470.000000\n",
            "mean        0.400000\n",
            "std         0.490065\n",
            "min         0.000000\n",
            "25%         0.000000\n",
            "50%         0.000000\n",
            "75%         1.000000\n",
            "max         1.000000\n",
            "Name: Gender, dtype: float64\n",
            "\n",
            "JobInvolvement\n",
            "---------------------------------\n",
            "count    1470.000000\n",
            "mean        2.729932\n",
            "std         0.711561\n",
            "min         1.000000\n",
            "25%         2.000000\n",
            "50%         3.000000\n",
            "75%         3.000000\n",
            "max         4.000000\n",
            "Name: JobInvolvement, dtype: float64\n",
            "\n",
            "JobRole\n",
            "---------------------------------\n",
            "count    1470.000000\n",
            "mean        2.553061\n",
            "std         2.323902\n",
            "min         0.000000\n",
            "25%         1.000000\n",
            "50%         2.000000\n",
            "75%         4.000000\n",
            "max         8.000000\n",
            "Name: JobRole, dtype: float64\n",
            "\n",
            "JobSatisfaction\n",
            "---------------------------------\n",
            "count    1470.000000\n",
            "mean        2.728571\n",
            "std         1.102846\n",
            "min         1.000000\n",
            "25%         2.000000\n",
            "50%         3.000000\n",
            "75%         4.000000\n",
            "max         4.000000\n",
            "Name: JobSatisfaction, dtype: float64\n",
            "\n",
            "MaritalStatus\n",
            "---------------------------------\n",
            "count    1470.000000\n",
            "mean        0.902721\n",
            "std         0.730121\n",
            "min         0.000000\n",
            "25%         0.000000\n",
            "50%         1.000000\n",
            "75%         1.000000\n",
            "max         2.000000\n",
            "Name: MaritalStatus, dtype: float64\n",
            "\n",
            "MonthlyIncome\n",
            "---------------------------------\n",
            "count     1470.000000\n",
            "mean      6502.931293\n",
            "std       4707.956783\n",
            "min       1009.000000\n",
            "25%       2911.000000\n",
            "50%       4919.000000\n",
            "75%       8379.000000\n",
            "max      19999.000000\n",
            "Name: MonthlyIncome, dtype: float64\n",
            "\n",
            "PercentSalaryHike\n",
            "---------------------------------\n",
            "count    1470.000000\n",
            "mean       15.209524\n",
            "std         3.659938\n",
            "min        11.000000\n",
            "25%        12.000000\n",
            "50%        14.000000\n",
            "75%        18.000000\n",
            "max        25.000000\n",
            "Name: PercentSalaryHike, dtype: float64\n",
            "\n",
            "PerformanceRating\n",
            "---------------------------------\n",
            "count    1470.000000\n",
            "mean        3.153741\n",
            "std         0.360824\n",
            "min         3.000000\n",
            "25%         3.000000\n",
            "50%         3.000000\n",
            "75%         3.000000\n",
            "max         4.000000\n",
            "Name: PerformanceRating, dtype: float64\n",
            "\n",
            "RelationshipSatisfaction\n",
            "---------------------------------\n",
            "count    1470.000000\n",
            "mean        2.712245\n",
            "std         1.081209\n",
            "min         1.000000\n",
            "25%         2.000000\n",
            "50%         3.000000\n",
            "75%         4.000000\n",
            "max         4.000000\n",
            "Name: RelationshipSatisfaction, dtype: float64\n",
            "\n",
            "TotalWorkingYears\n",
            "---------------------------------\n",
            "count    1470.000000\n",
            "mean       11.279592\n",
            "std         7.780782\n",
            "min         0.000000\n",
            "25%         6.000000\n",
            "50%        10.000000\n",
            "75%        15.000000\n",
            "max        40.000000\n",
            "Name: TotalWorkingYears, dtype: float64\n",
            "\n",
            "WorkLifeBalance\n",
            "---------------------------------\n",
            "count    1470.000000\n",
            "mean        2.761224\n",
            "std         0.706476\n",
            "min         1.000000\n",
            "25%         2.000000\n",
            "50%         3.000000\n",
            "75%         3.000000\n",
            "max         4.000000\n",
            "Name: WorkLifeBalance, dtype: float64\n",
            "\n",
            "YearsAtCompany\n",
            "---------------------------------\n",
            "count    1470.000000\n",
            "mean        7.008163\n",
            "std         6.126525\n",
            "min         0.000000\n",
            "25%         3.000000\n",
            "50%         5.000000\n",
            "75%         9.000000\n",
            "max        40.000000\n",
            "Name: YearsAtCompany, dtype: float64\n",
            "\n",
            "YearsInCurrentRole\n",
            "---------------------------------\n",
            "count    1470.000000\n",
            "mean        4.229252\n",
            "std         3.623137\n",
            "min         0.000000\n",
            "25%         2.000000\n",
            "50%         3.000000\n",
            "75%         7.000000\n",
            "max        18.000000\n",
            "Name: YearsInCurrentRole, dtype: float64\n",
            "\n",
            "YearsSinceLastPromotion\n",
            "---------------------------------\n",
            "count    1470.000000\n",
            "mean        2.187755\n",
            "std         3.222430\n",
            "min         0.000000\n",
            "25%         0.000000\n",
            "50%         1.000000\n",
            "75%         3.000000\n",
            "max        15.000000\n",
            "Name: YearsSinceLastPromotion, dtype: float64\n",
            "\n",
            "YearsWithCurrManager\n",
            "---------------------------------\n",
            "count    1470.000000\n",
            "mean        4.123129\n",
            "std         3.568136\n",
            "min         0.000000\n",
            "25%         2.000000\n",
            "50%         3.000000\n",
            "75%         7.000000\n",
            "max        17.000000\n",
            "Name: YearsWithCurrManager, dtype: float64\n",
            "\n"
          ]
        }
      ]
    },
    {
      "cell_type": "markdown",
      "source": [
        "# CHECKING ALL THE UNIQUE VALUES IN EACH FEATURE"
      ],
      "metadata": {
        "id": "-7wY_bpTZmbt"
      }
    },
    {
      "cell_type": "code",
      "source": [
        "for i in df.columns:\n",
        "  print(i)\n",
        "  print(\"---------------------\")\n",
        "  print(df[i].unique())\n",
        "  print(\"\")"
      ],
      "metadata": {
        "colab": {
          "base_uri": "https://localhost:8080/"
        },
        "id": "JOVU3_kwQUhJ",
        "outputId": "d5f68454-b84e-44ae-912d-0a9f9de27407"
      },
      "execution_count": 115,
      "outputs": [
        {
          "output_type": "stream",
          "name": "stdout",
          "text": [
            "Age\n",
            "---------------------\n",
            "[41 49 37 33 27 32 59 30 38 36 35 29 31 34 28 22 53 24 21 42 44 46 39 43\n",
            " 50 26 48 55 45 56 23 51 40 54 58 20 25 19 57 52 47 18 60]\n",
            "\n",
            "Attrition\n",
            "---------------------\n",
            "[1 0]\n",
            "\n",
            "Department\n",
            "---------------------\n",
            "[0 1 2]\n",
            "\n",
            "DistanceFromHome\n",
            "---------------------\n",
            "[ 1  8  2  3 24 23 27 16 15 26 19 21  5 11  9  7  6 10  4 25 12 18 29 22\n",
            " 14 20 28 17 13]\n",
            "\n",
            "EmployeeNumber\n",
            "---------------------\n",
            "[   1    2    4 ... 2064 2065 2068]\n",
            "\n",
            "EnvironmentSatisfaction\n",
            "---------------------\n",
            "[2 3 4 1]\n",
            "\n",
            "Gender\n",
            "---------------------\n",
            "[1 0]\n",
            "\n",
            "JobInvolvement\n",
            "---------------------\n",
            "[3 2 4 1]\n",
            "\n",
            "JobRole\n",
            "---------------------\n",
            "[0 1 2 3 4 5 6 7 8]\n",
            "\n",
            "JobSatisfaction\n",
            "---------------------\n",
            "[4 2 3 1]\n",
            "\n",
            "MaritalStatus\n",
            "---------------------\n",
            "[0 1 2]\n",
            "\n",
            "MonthlyIncome\n",
            "---------------------\n",
            "[5993 5130 2090 ... 9991 5390 4404]\n",
            "\n",
            "PercentSalaryHike\n",
            "---------------------\n",
            "[11 23 15 12 13 20 22 21 17 14 16 18 19 24 25]\n",
            "\n",
            "PerformanceRating\n",
            "---------------------\n",
            "[3 4]\n",
            "\n",
            "RelationshipSatisfaction\n",
            "---------------------\n",
            "[1 4 2 3]\n",
            "\n",
            "TotalWorkingYears\n",
            "---------------------\n",
            "[ 8 10  7  6 12  1 17  5  3 31 13  0 26 24 22  9 19  2 23 14 15  4 29 28\n",
            " 21 25 20 11 16 37 38 30 40 18 36 34 32 33 35 27]\n",
            "\n",
            "WorkLifeBalance\n",
            "---------------------\n",
            "[1 3 2 4]\n",
            "\n",
            "YearsAtCompany\n",
            "---------------------\n",
            "[ 6 10  0  8  2  7  1  9  5  4 25  3 12 14 22 15 27 21 17 11 13 37 16 20\n",
            " 40 24 33 19 36 18 29 31 32 34 26 30 23]\n",
            "\n",
            "YearsInCurrentRole\n",
            "---------------------\n",
            "[ 4  7  0  2  5  9  8  3  6 13  1 15 14 16 11 10 12 18 17]\n",
            "\n",
            "YearsSinceLastPromotion\n",
            "---------------------\n",
            "[ 0  1  3  2  7  4  8  6  5 15  9 13 12 10 11 14]\n",
            "\n",
            "YearsWithCurrManager\n",
            "---------------------\n",
            "[ 5  7  0  2  6  8  3 11 17  1  4 12  9 10 15 13 16 14]\n",
            "\n"
          ]
        }
      ]
    },
    {
      "cell_type": "markdown",
      "source": [
        "# DIVIDING DEPENDENT AND INDEPENDENT VARIABLES "
      ],
      "metadata": {
        "id": "5upxWgdKlh--"
      }
    },
    {
      "cell_type": "code",
      "source": [
        "y = df['Attrition']\n",
        "x = df.drop(['Attrition'],axis=1)"
      ],
      "metadata": {
        "id": "SYySfQH7loW2"
      },
      "execution_count": 116,
      "outputs": []
    },
    {
      "cell_type": "markdown",
      "source": [
        "# IMPORTING ALL THE REQUIRED MODELS AND METRICS"
      ],
      "metadata": {
        "id": "b7DzDKg3lz2_"
      }
    },
    {
      "cell_type": "code",
      "source": [
        "from sklearn.pipeline import make_pipeline\n",
        "from sklearn.preprocessing import StandardScaler\n",
        "\n",
        "from sklearn.model_selection import train_test_split\n",
        "\n",
        "from sklearn.linear_model import LogisticRegression\n",
        "from sklearn.tree import DecisionTreeClassifier\n",
        "from sklearn.ensemble import RandomForestClassifier\n",
        "from sklearn.neighbors import KNeighborsClassifier\n",
        "from sklearn.naive_bayes import GaussianNB\n",
        "from sklearn.svm import SVC\n",
        "\n",
        "from sklearn.metrics import accuracy_score,confusion_matrix"
      ],
      "metadata": {
        "id": "qS0lFGUpge4e"
      },
      "execution_count": 117,
      "outputs": []
    },
    {
      "cell_type": "markdown",
      "source": [
        "# SPLITTING THE DATASET INTO TRAINING AND TESTING"
      ],
      "metadata": {
        "id": "FIUgJM0gmHS_"
      }
    },
    {
      "cell_type": "code",
      "source": [
        "x_train,x_test,y_train,y_test = train_test_split(x,y,test_size=0.2,random_state=42)"
      ],
      "metadata": {
        "id": "dbRReRwamGOr"
      },
      "execution_count": 118,
      "outputs": []
    },
    {
      "cell_type": "markdown",
      "source": [
        "# MAKING PIPELINE FOR EVERY MODEL"
      ],
      "metadata": {
        "id": "C6UdpDP5oV47"
      }
    },
    {
      "cell_type": "code",
      "source": [
        "mdl_1 = make_pipeline(StandardScaler(), LogisticRegression()) \n",
        "mdl_2 = make_pipeline(StandardScaler(), DecisionTreeClassifier()) \n",
        "mdl_3 = make_pipeline(StandardScaler(), RandomForestClassifier())\n",
        "mdl_4 = make_pipeline(StandardScaler(), KNeighborsClassifier())\n",
        "mdl_5 = make_pipeline(StandardScaler(), SVC()) \n",
        "mdl_6 = make_pipeline(StandardScaler(), GaussianNB())"
      ],
      "metadata": {
        "id": "NjtFGNV0oa9J"
      },
      "execution_count": 119,
      "outputs": []
    },
    {
      "cell_type": "markdown",
      "source": [
        "# FITTING AND PREDICTING THE MODEL"
      ],
      "metadata": {
        "id": "Q6Cv36WSmYKt"
      }
    },
    {
      "cell_type": "code",
      "source": [
        "mdls = [mdl_1,mdl_2,mdl_3,mdl_4,mdl_5,mdl_6]\n",
        "\n",
        "for i in mdls:\n",
        "  print(\"\")\n",
        "  i.fit(x_train,y_train)\n",
        "  y_pred = i.predict(x_test)\n",
        "  print(\"   CONFUSION MATRIX \")\n",
        "  print(\"  \",confusion_matrix(y_pred,y_test))\n",
        "  print(\"\")\n",
        "  print(\"    ACCURACY SCORE \")\n",
        "  print(\"  \",accuracy_score(y_pred,y_test))\n",
        "  print(\"----------------------------------\")\n",
        "  print(\"\")\n",
        "  print(\"\")\n",
        "  print(\"\")\n"
      ],
      "metadata": {
        "colab": {
          "base_uri": "https://localhost:8080/"
        },
        "id": "hpATsyU2mlfV",
        "outputId": "35502ef2-abc9-460d-d062-028762c7edde"
      },
      "execution_count": 120,
      "outputs": [
        {
          "output_type": "stream",
          "name": "stdout",
          "text": [
            "\n",
            "   CONFUSION MATRIX \n",
            "   [[252  34]\n",
            " [  3   5]]\n",
            "\n",
            "    ACCURACY SCORE \n",
            "   0.8741496598639455\n",
            "----------------------------------\n",
            "\n",
            "\n",
            "\n",
            "\n",
            "   CONFUSION MATRIX \n",
            "   [[214  31]\n",
            " [ 41   8]]\n",
            "\n",
            "    ACCURACY SCORE \n",
            "   0.7551020408163265\n",
            "----------------------------------\n",
            "\n",
            "\n",
            "\n",
            "\n",
            "   CONFUSION MATRIX \n",
            "   [[251  35]\n",
            " [  4   4]]\n",
            "\n",
            "    ACCURACY SCORE \n",
            "   0.8673469387755102\n",
            "----------------------------------\n",
            "\n",
            "\n",
            "\n",
            "\n",
            "   CONFUSION MATRIX \n",
            "   [[249  35]\n",
            " [  6   4]]\n",
            "\n",
            "    ACCURACY SCORE \n",
            "   0.8605442176870748\n",
            "----------------------------------\n",
            "\n",
            "\n",
            "\n",
            "\n",
            "   CONFUSION MATRIX \n",
            "   [[255  37]\n",
            " [  0   2]]\n",
            "\n",
            "    ACCURACY SCORE \n",
            "   0.8741496598639455\n",
            "----------------------------------\n",
            "\n",
            "\n",
            "\n",
            "\n",
            "   CONFUSION MATRIX \n",
            "   [[226  18]\n",
            " [ 29  21]]\n",
            "\n",
            "    ACCURACY SCORE \n",
            "   0.8401360544217688\n",
            "----------------------------------\n",
            "\n",
            "\n",
            "\n"
          ]
        }
      ]
    },
    {
      "cell_type": "markdown",
      "source": [
        "# HIGH ACCURACY SCORE MODELS\n",
        "\n",
        "### Model-1\n",
        "### -----------------------------------------\n",
        "### LogisticRegression\n",
        "### Accuracy_Score ------> 87.41\n",
        "\n",
        "\n",
        "### Model-2\n",
        "### -----------------------------------------\n",
        "\n",
        "### RandomForest Classifier\n",
        "### Accuracy_Score ------> 87.41\n",
        "\n",
        "\n",
        "### Model-3\n",
        "### -----------------------------------------\n",
        "\n",
        "### DecisionTree Classifier\n",
        "### Accuracy_Score -----> 87.07\n",
        "### -----------------------------------------"
      ],
      "metadata": {
        "id": "6C240-qTrpzS"
      }
    },
    {
      "cell_type": "markdown",
      "source": [
        "# SAVING THE MODEL IN PICKLE FILE"
      ],
      "metadata": {
        "id": "Jq1QnAo1ue3g"
      }
    },
    {
      "cell_type": "code",
      "source": [
        "import pickle"
      ],
      "metadata": {
        "id": "wKHtvpvAnWAy"
      },
      "execution_count": 121,
      "outputs": []
    },
    {
      "cell_type": "code",
      "source": [
        "filename = 'employee_attrition.pkl'\n",
        "pickle.dump(mdl_5, open(filename, 'wb'))"
      ],
      "metadata": {
        "id": "SraQqge0ukBx"
      },
      "execution_count": 122,
      "outputs": []
    },
    {
      "cell_type": "code",
      "source": [],
      "metadata": {
        "id": "-v1jH9KbuySh"
      },
      "execution_count": 122,
      "outputs": []
    }
  ]
}